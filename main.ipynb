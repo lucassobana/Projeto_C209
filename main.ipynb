{
 "cells": [
  {
   "cell_type": "code",
   "execution_count": 5,
   "metadata": {},
   "outputs": [
    {
     "data": {
      "text/plain": [
       "True"
      ]
     },
     "execution_count": 5,
     "metadata": {},
     "output_type": "execute_result"
    }
   ],
   "source": [
    "import numpy as np\n",
    "import cv2 as cv\n",
    "from PIL import Image\n",
    "import matplotlib.pyplot as plt\n",
    "\n",
    "# convert to graky\n",
    "img = cv.imread(\"peixe.jpg\")\n",
    "img_cv_gray =cv.cvtColor(img, cv.COLOR_BGR2GRAY)\n",
    "\n",
    "img_cv_binary = cv.threshold(img_cv_gray,220,255,cv.THRESH_BINARY)[1]\n",
    "img_cv_binary = 255 - img_cv_binary\n",
    "\n",
    "#REMOVENDO RUÍDO ISOLADO\n",
    "kernel = np.ones((3,3), np.uint8)\n",
    "img_cv_mask = cv.morphologyEx(img_cv_binary,cv.MORPH_OPEN,kernel)\n",
    "img_cv_mask = cv.morphologyEx(img_cv_mask,cv.MORPH_CLOSE,kernel)\n",
    "\n",
    "#ANTI- ALIAS --> BLUR + STRETCH\n",
    "#BLUR:\n",
    "img_cv_mask = cv.GaussianBlur(img_cv_mask,(0,0), sigmaX=2, sigmaY=2, borderType = cv.BORDER_DEFAULT)\n",
    "#STRETCH LINEAR:\n",
    "img_cv_mask = (2*(img_cv_mask.astype(np.float32))-255.0).clip(0,255).astype(np.uint8)\n",
    "\n",
    "# colocando a mascara no canal alpha\n",
    "img_nBckgnd = img.copy()\n",
    "img_nBckgnd = cv.cvtColor(img_nBckgnd, cv.COLOR_BGR2BGRA)\n",
    "img_nBckgnd[:, :, 3] = img_cv_mask\n",
    "\n",
    "#SALVANDO\n",
    "cv.imwrite(\"img_nBckgnd.png\", img_nBckgnd)       \n"
   ]
  }
 ],
 "metadata": {
  "kernelspec": {
   "display_name": "Python 3.10.6 64-bit",
   "language": "python",
   "name": "python3"
  },
  "language_info": {
   "codemirror_mode": {
    "name": "ipython",
    "version": 3
   },
   "file_extension": ".py",
   "mimetype": "text/x-python",
   "name": "python",
   "nbconvert_exporter": "python",
   "pygments_lexer": "ipython3",
   "version": "3.11.2"
  },
  "orig_nbformat": 4,
  "vscode": {
   "interpreter": {
    "hash": "c3503f95e0e8f4afdf6702396a7a2a29cae9f67572acfe092405dcaa2579b817"
   }
  }
 },
 "nbformat": 4,
 "nbformat_minor": 2
}
